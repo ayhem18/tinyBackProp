{
 "cells": [
  {
   "cell_type": "code",
   "execution_count": 1,
   "metadata": {},
   "outputs": [],
   "source": [
    "import numpy as np\n",
    "from functional import convolution as cv\n",
    "x = np.asarray([[1,2,0,1], [1, 0 , 1, 1], [1, 2, 0, 0], [0, 2, 1, 0]])\n",
    "w = np.asarray([[1, 0], [1, 1]])\n",
    "o = cv.conv_3_3(x, w)"
   ]
  },
  {
   "cell_type": "code",
   "execution_count": 2,
   "metadata": {},
   "outputs": [
    {
     "data": {
      "text/plain": [
       "array([[2., 3., 2.],\n",
       "       [4., 2., 1.],\n",
       "       [3., 5., 1.]])"
      ]
     },
     "execution_count": 2,
     "metadata": {},
     "output_type": "execute_result"
    }
   ],
   "source": [
    "o"
   ]
  },
  {
   "cell_type": "code",
   "execution_count": 27,
   "metadata": {},
   "outputs": [
    {
     "data": {
      "text/plain": [
       "((5, 5), (3, 3))"
      ]
     },
     "execution_count": 27,
     "metadata": {},
     "output_type": "execute_result"
    }
   ],
   "source": [
    "x.shape, w.shape"
   ]
  },
  {
   "cell_type": "code",
   "execution_count": 3,
   "metadata": {},
   "outputs": [],
   "source": [
    "x = np.expand_dims(x, axis=[0, 1])\n",
    "w = np.expand_dims(w, axis=[0, 1])\n",
    "o = np.expand_dims(o, axis=[0, 1])"
   ]
  },
  {
   "cell_type": "code",
   "execution_count": 7,
   "metadata": {},
   "outputs": [],
   "source": [
    "dL = np.asarray([[1, 1, 0], [0, 0, 1], [1, 0, 0]]).reshape(1, 1, 3, 3) \n",
    "dx, dw = cv.conv_grad(x, w, dL=dL)\n",
    "dx, dw = dx.squeeze(), dw.squeeze()"
   ]
  },
  {
   "cell_type": "code",
   "execution_count": 8,
   "metadata": {},
   "outputs": [
    {
     "data": {
      "text/plain": [
       "(array([[1., 1., 0., 0.],\n",
       "        [1., 2., 2., 0.],\n",
       "        [1., 0., 1., 1.],\n",
       "        [1., 1., 0., 0.]], dtype=float32),\n",
       " array([[5., 5.],\n",
       "        [1., 3.]], dtype=float32))"
      ]
     },
     "execution_count": 8,
     "metadata": {},
     "output_type": "execute_result"
    }
   ],
   "source": [
    "dx, dw"
   ]
  },
  {
   "cell_type": "code",
   "execution_count": null,
   "metadata": {},
   "outputs": [],
   "source": []
  }
 ],
 "metadata": {
  "kernelspec": {
   "display_name": "kaggle_env",
   "language": "python",
   "name": "python3"
  },
  "language_info": {
   "codemirror_mode": {
    "name": "ipython",
    "version": 3
   },
   "file_extension": ".py",
   "mimetype": "text/x-python",
   "name": "python",
   "nbconvert_exporter": "python",
   "pygments_lexer": "ipython3",
   "version": "3.11.5"
  }
 },
 "nbformat": 4,
 "nbformat_minor": 2
}
