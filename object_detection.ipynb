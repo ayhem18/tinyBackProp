{
 "cells": [
  {
   "cell_type": "markdown",
   "metadata": {},
   "source": [
    "# Dataset \n",
    "\n",
    "I am using this [dataset](https://www.kaggle.com/datasets/tarunbisht11/yolo-animal-detection-small?select=yolo-animal-detection-small) publicly available on Kaggle.\n",
    "\n",
    "Please make sure to have the dataset downloaded and saved in the same directory as the notebook"
   ]
  },
  {
   "cell_type": "code",
   "execution_count": 3,
   "metadata": {},
   "outputs": [],
   "source": [
    "import os\n",
    "home = os.getcwd()\n",
    "zip_file_name = 'yolo-animal-detection-small.zip'\n",
    "zip_data = os.path.join(home, 'data.zip')\n",
    "os.rename(os.path.join(home, zip_file_name), zip_data)\n",
    "# unzip the data\n",
    "import zipfile\n",
    "with zipfile.ZipFile(zip_data, 'r') as zip_ref:\n",
    "    des = os.path.join(home, 'obj_detect_data')\n",
    "    os.makedirs(des, exist_ok=True)\n",
    "    zip_ref.extractall(des)"
   ]
  },
  {
   "cell_type": "markdown",
   "metadata": {},
   "source": [
    "# Approach Explanation\n",
    "\n",
    "The Object detection task is relatively advanced, and building a working solution from scratch is quite demanding and time consuming. The solution I present is a simplistic approach that could work for simple cases. \n",
    "\n",
    "The idea is to cut the image into different patches. I convert the images and their bounding boxes into a map as follows: \n",
    "1. Given a bounding box, each patch spanned by this bounding box is given the label of the object in the box \n",
    "2. The model will be trained to predict this map\n",
    "3. Given a map we can partially recover the bounding boxes. The resulting bounding boxes are definitely not precise\n",
    "4. With enough time and resources, we can then crop the image into several smaller images using the bounding boxes and use the single object detection model to get more precise predictions."
   ]
  },
  {
   "cell_type": "code",
   "execution_count": null,
   "metadata": {},
   "outputs": [],
   "source": [
    "# let's get annotations\n",
    "import xml.dom.minidom\n",
    "\n",
    "def get_annotations(xml_file):\n",
    "    xml_doc = xml.dom.minidom.parse(xml_file)\n",
    "    bbox = xml_doc.getElementsByTagName('bndbox')[0]\n",
    "    anns = []\n",
    "    for c in bbox.childNodes:\n",
    "        data = c.childNodes\n",
    "        for d in data:\n",
    "            if len(d) > 0:\n",
    "                anns.append(d.nodeValue)\n",
    "\n",
    "    return anns"
   ]
  }
 ],
 "metadata": {
  "kernelspec": {
   "display_name": "kaggle_env",
   "language": "python",
   "name": "python3"
  },
  "language_info": {
   "codemirror_mode": {
    "name": "ipython",
    "version": 3
   },
   "file_extension": ".py",
   "mimetype": "text/x-python",
   "name": "python",
   "nbconvert_exporter": "python",
   "pygments_lexer": "ipython3",
   "version": "3.11.5"
  }
 },
 "nbformat": 4,
 "nbformat_minor": 2
}
